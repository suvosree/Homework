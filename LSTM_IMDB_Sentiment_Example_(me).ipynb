{
  "cells": [
    {
      "cell_type": "markdown",
      "metadata": {
        "id": "view-in-github",
        "colab_type": "text"
      },
      "source": [
        "<a href=\"https://colab.research.google.com/github/suvosree/Homework/blob/main/LSTM_IMDB_Sentiment_Example_(me).ipynb\" target=\"_parent\"><img src=\"https://colab.research.google.com/assets/colab-badge.svg\" alt=\"Open In Colab\"/></a>"
      ]
    },
    {
      "cell_type": "markdown",
      "metadata": {
        "id": "WMucfLUS1yhH"
      },
      "source": [
        "## What is this?\n",
        "\n",
        "This Jupyter Notebook contains Python code for building a LSTM Recurrent Neural Network that gives 87-88% accuracy on the IMDB Movie Review Sentiment Analysis Dataset. \n",
        "\n",
        "More information is given on [this blogpost](https://www.bouvet.no/bouvet-deler/explaining-recurrent-neural-networks).\n",
        "\n",
        "This code is supplied without license, warranty or support. Feel free to do with it what you will."
      ]
    },
    {
      "cell_type": "markdown",
      "metadata": {
        "id": "wFUKGe4x3ala"
      },
      "source": [
        "## Built for Google Collaboratory\n",
        "\n",
        "Train your network more quickly in Google Collaboratory. From the **Runtime** menu select **Change Runtime** Type and choose \"GPU\"!\n",
        "\n",
        "Don't forget to select **Runtime** -> **Restart runtime** to put your changes into effect."
      ]
    },
    {
      "cell_type": "markdown",
      "metadata": {
        "id": "WP1VrbVp3sVu"
      },
      "source": [
        "## Setting up\n",
        "\n",
        "When running this for the first time you may get a warning telling you to restart the Runtime. You can ignore this, but feel free to select \"Runtime->Restart Runtime\" from the overhead menu if you encounter problems."
      ]
    },
    {
      "cell_type": "code",
      "execution_count": 81,
      "metadata": {
        "id": "2e3txwbh3q76",
        "colab": {
          "base_uri": "https://localhost:8080/"
        },
        "outputId": "aba6ef83-765b-4d53-d29c-bf7866c988f6"
      },
      "outputs": [
        {
          "output_type": "stream",
          "name": "stdout",
          "text": [
            "2.7.0\n"
          ]
        }
      ],
      "source": [
        "# keras.datasets.imdb is broken in TensorFlow 1.13 and 1.14 due to numpy 1.16.3\n",
        "#!pip install numpy==1.18.5\n",
        "\n",
        "# All the imports!\n",
        "import tensorflow as tf \n",
        "import numpy as np\n",
        "from tensorflow.keras.preprocessing import sequence\n",
        "from numpy import array\n",
        "from keras.layers.recurrent import SimpleRNN\n",
        "optimizer = tf.keras.optimizers.Adam()\n",
        "import matplotlib.pyplot as plt\n",
        "\n",
        "\n",
        "# Supress deprecation warnings\n",
        "import logging\n",
        "logging.getLogger('tensorflow').disabled = True\n",
        "\n",
        "# Fetch \"IMDB Movie Review\" data, constraining our reviews to \n",
        "# the 10000 most commonly used words\n",
        "vocab_size = 10000\n",
        "(x_train, y_train), (x_test, y_test) = tf.keras.datasets.imdb.load_data(num_words=vocab_size)\n",
        "\n",
        "# Map for readable classnames\n",
        "class_names = [\"Negative\", \"Positive\"]\n",
        "print(tf.__version__)\n"
      ]
    },
    {
      "cell_type": "markdown",
      "metadata": {
        "id": "hdyHL8FF0JJy"
      },
      "source": [
        "## Create map for converting IMDB dataset to readable reviews\n",
        "\n",
        "Reviews in the IMDB dataset have been encoded as a sequence of integers. Luckily the dataset also \n",
        "contains an index for converting the reviews back into human readable form."
      ]
    },
    {
      "cell_type": "code",
      "execution_count": 82,
      "metadata": {
        "id": "E05AweFu0Imt"
      },
      "outputs": [],
      "source": [
        "# Get the word index from the dataset\n",
        "word_index = tf.keras.datasets.imdb.get_word_index()\n",
        "\n",
        "# Ensure that \"special\" words are mapped into human readable terms \n",
        "word_index = {k:(v+3) for k,v in word_index.items()}\n",
        "word_index[\"<PAD>\"] = 0\n",
        "word_index[\"<START>\"] = 1\n",
        "word_index[\"<UNKNOWN>\"] = 2\n",
        "word_index[\"<UNUSED>\"] = 3\n",
        "\n",
        "# Perform reverse word lookup and make it callable\n",
        "reverse_word_index = dict([(value, key) for (key, value) in word_index.items()])\n",
        "def decode_review(text):\n",
        "    return ' '.join([reverse_word_index.get(i, '?') for i in text])"
      ]
    },
    {
      "cell_type": "markdown",
      "metadata": {
        "id": "fFXK-g6G81sC"
      },
      "source": [
        "## Data Insight\n",
        "\n",
        "Here we take a closer look at our data. How many words do our reviews contain?\n",
        "\n",
        "And what do our review look like in machine and human readable form?\n"
      ]
    },
    {
      "cell_type": "code",
      "execution_count": 83,
      "metadata": {
        "colab": {
          "base_uri": "https://localhost:8080/"
        },
        "id": "yD1qHVBn81Y_",
        "outputId": "8f579fb9-d25e-4241-d174-02baacb02e7c"
      },
      "outputs": [
        {
          "output_type": "stream",
          "name": "stdout",
          "text": [
            "Maximum review length: 2494\n",
            "Minimum review length: 7\n",
            "Mean review length: 234.75892\n",
            "\n",
            "Machine readable Review\n",
            "  Review Text: [1, 13, 219, 14, 33, 4, 2, 22, 1413, 12, 16, 373, 175, 2711, 1115, 1026, 430, 939, 16, 23, 2444, 25, 43, 697, 89, 12, 16, 170, 8, 130, 262, 19, 32, 4, 665, 7, 4, 2, 322, 5, 4, 1520, 7, 4, 86, 250, 10, 10, 4, 249, 173, 16, 4, 3891, 6, 19, 4, 167, 564, 5, 564, 1325, 36, 805, 8, 216, 638, 17, 2, 21, 25, 100, 376, 507, 4, 2110, 15, 79, 125, 23, 567, 13, 2134, 233, 36, 4852, 2, 5, 81, 1672, 10, 10, 92, 437, 129, 58, 13, 69, 8, 401, 61, 1432, 39, 1286, 46, 7, 12]\n",
            "  Review Sentiment: 0\n",
            "\n",
            "Human Readable Review\n",
            "  Review Text: <START> i saw this at the <UNKNOWN> film festival it was awful every clichéd violent rich boy fantasy was on display you just knew how it was going to end especially with all the shots of the <UNKNOWN> wife and the rape of the first girl br br the worst part was the q a with the director writer and writer producer they tried to come across as <UNKNOWN> but you could tell they're the types that get off on violence i bet anything they frequent <UNKNOWN> and do drugs br br don't waste your time i had to keep my boyfriend from walking out of it\n",
            "  Review Sentiment: Negative\n"
          ]
        }
      ],
      "source": [
        "# Concatonate test and training datasets\n",
        "allreviews = np.concatenate((x_train, x_test), axis=0)\n",
        "\n",
        "# Review lengths across test and training whole datasets\n",
        "print(\"Maximum review length: {}\".format(len(max((allreviews), key=len))))\n",
        "print(\"Minimum review length: {}\".format(len(min((allreviews), key=len))))\n",
        "result = [len(x) for x in allreviews]\n",
        "print(\"Mean review length: {}\".format(np.mean(result)))\n",
        "\n",
        "# Print a review and it's class as stored in the dataset. Replace the number\n",
        "# to select a different review.\n",
        "print(\"\")\n",
        "print(\"Machine readable Review\")\n",
        "print(\"  Review Text: \" + str(x_train[60]))\n",
        "print(\"  Review Sentiment: \" + str(y_train[60]))\n",
        "\n",
        "# Print a review and it's class in human readable format. Replace the number\n",
        "# to select a different review.\n",
        "print(\"\")\n",
        "print(\"Human Readable Review\")\n",
        "print(\"  Review Text: \" + decode_review(x_train[60]))\n",
        "print(\"  Review Sentiment: \" + class_names[y_train[60]])"
      ]
    },
    {
      "cell_type": "markdown",
      "metadata": {
        "id": "mF-Votm66zD5"
      },
      "source": [
        "## Pre-processing Data\n",
        "\n",
        "We need to make sure that our reviews are of a uniform length. This is for the LSTM's parameters.\n",
        "\n",
        "Some reviews will need to be truncated, while others need to be padded."
      ]
    },
    {
      "cell_type": "code",
      "execution_count": 84,
      "metadata": {
        "colab": {
          "base_uri": "https://localhost:8080/"
        },
        "id": "uNtJTLJA6gaT",
        "outputId": "37754d81-c950-4465-c914-55371bb8a078"
      },
      "outputs": [
        {
          "output_type": "stream",
          "name": "stdout",
          "text": [
            "Shape Training Review Data: (25000, 500)\n",
            "Shape Training Class Data: (25000,)\n",
            "Shape Test Review Data: (25000, 500)\n",
            "Shape Test Class Data: (25000,)\n",
            "\n",
            "Human Readable Review Text (post padding): <PAD> <PAD> <PAD> <PAD> <PAD> <PAD> <PAD> <PAD> <PAD> <PAD> <PAD> <PAD> <PAD> <PAD> <PAD> <PAD> <PAD> <PAD> <PAD> <PAD> <PAD> <PAD> <PAD> <PAD> <PAD> <PAD> <PAD> <PAD> <PAD> <PAD> <PAD> <PAD> <PAD> <PAD> <PAD> <PAD> <PAD> <PAD> <PAD> <PAD> <PAD> <PAD> <PAD> <PAD> <PAD> <PAD> <PAD> <PAD> <PAD> <PAD> <PAD> <PAD> <PAD> <PAD> <PAD> <PAD> <PAD> <PAD> <PAD> <PAD> <PAD> <PAD> <PAD> <PAD> <PAD> <PAD> <PAD> <PAD> <PAD> <PAD> <PAD> <PAD> <PAD> <PAD> <PAD> <PAD> <PAD> <PAD> <PAD> <PAD> <PAD> <PAD> <PAD> <PAD> <PAD> <PAD> <PAD> <PAD> <PAD> <PAD> <PAD> <PAD> <PAD> <PAD> <PAD> <PAD> <PAD> <PAD> <PAD> <PAD> <PAD> <PAD> <PAD> <PAD> <PAD> <PAD> <PAD> <PAD> <PAD> <PAD> <PAD> <PAD> <PAD> <PAD> <PAD> <PAD> <PAD> <PAD> <PAD> <PAD> <PAD> <PAD> <PAD> <PAD> <PAD> <PAD> <PAD> <PAD> <PAD> <PAD> <PAD> <PAD> <PAD> <PAD> <PAD> <PAD> <PAD> <PAD> <PAD> <PAD> <PAD> <PAD> <PAD> <PAD> <PAD> <PAD> <PAD> <PAD> <PAD> <PAD> <PAD> <PAD> <PAD> <PAD> <PAD> <PAD> <PAD> <PAD> <PAD> <PAD> <PAD> <PAD> <PAD> <PAD> <PAD> <PAD> <PAD> <PAD> <PAD> <PAD> <PAD> <PAD> <PAD> <PAD> <PAD> <PAD> <PAD> <PAD> <PAD> <PAD> <PAD> <PAD> <PAD> <PAD> <PAD> <PAD> <PAD> <PAD> <PAD> <PAD> <PAD> <PAD> <PAD> <PAD> <PAD> <PAD> <PAD> <PAD> <PAD> <PAD> <PAD> <PAD> <PAD> <PAD> <PAD> <PAD> <PAD> <PAD> <PAD> <PAD> <PAD> <PAD> <PAD> <PAD> <PAD> <PAD> <PAD> <PAD> <PAD> <PAD> <PAD> <PAD> <PAD> <PAD> <PAD> <PAD> <PAD> <PAD> <PAD> <PAD> <PAD> <PAD> <PAD> <PAD> <PAD> <PAD> <PAD> <PAD> <PAD> <PAD> <PAD> <PAD> <PAD> <PAD> <PAD> <PAD> <PAD> <PAD> <PAD> <PAD> <PAD> <PAD> <PAD> <PAD> <PAD> <PAD> <PAD> <PAD> <PAD> <PAD> <PAD> <PAD> <PAD> <PAD> <PAD> <PAD> <PAD> <PAD> <PAD> <PAD> <PAD> <PAD> <PAD> <PAD> <PAD> <PAD> <PAD> <PAD> <PAD> <PAD> <PAD> <PAD> <PAD> <PAD> <PAD> <PAD> <PAD> <PAD> <PAD> <PAD> <PAD> <PAD> <PAD> <PAD> <PAD> <PAD> <PAD> <PAD> <PAD> <PAD> <PAD> <PAD> <PAD> <PAD> <PAD> <PAD> <PAD> <PAD> <PAD> <PAD> <PAD> <PAD> <PAD> <PAD> <PAD> <PAD> <PAD> <PAD> <PAD> <PAD> <PAD> <PAD> <PAD> <PAD> <PAD> <PAD> <PAD> <PAD> <PAD> <PAD> <PAD> <PAD> <PAD> <PAD> <PAD> <PAD> <PAD> <PAD> <PAD> <PAD> <PAD> <PAD> <PAD> <PAD> <PAD> <PAD> <PAD> <PAD> <PAD> <PAD> <PAD> <PAD> <PAD> <PAD> <PAD> <PAD> <PAD> <PAD> <PAD> <PAD> <PAD> <PAD> <PAD> <PAD> <PAD> <PAD> <PAD> <PAD> <PAD> <PAD> <PAD> <PAD> <PAD> <PAD> <PAD> <PAD> <PAD> <PAD> <PAD> <PAD> <PAD> <PAD> <PAD> <PAD> <PAD> <PAD> <PAD> <PAD> <PAD> <PAD> <PAD> <PAD> <PAD> <START> i saw this at the <UNKNOWN> film festival it was awful every clichéd violent rich boy fantasy was on display you just knew how it was going to end especially with all the shots of the <UNKNOWN> wife and the rape of the first girl br br the worst part was the q a with the director writer and writer producer they tried to come across as <UNKNOWN> but you could tell they're the types that get off on violence i bet anything they frequent <UNKNOWN> and do drugs br br don't waste your time i had to keep my boyfriend from walking out of it\n"
          ]
        }
      ],
      "source": [
        "# The length of reviews\n",
        "review_length = 500\n",
        "\n",
        "# Padding / truncated our reviews\n",
        "x_train = sequence.pad_sequences(x_train, maxlen = review_length)\n",
        "x_test = sequence.pad_sequences(x_test, maxlen = review_length)\n",
        "\n",
        "# Check the size of our datasets. Review data for both test and training should \n",
        "# contain 25000 reviews of 500 integers. Class data should contain 25000 values, \n",
        "# one for each review. Class values are 0 or 1, indicating a negative \n",
        "# or positive review.\n",
        "print(\"Shape Training Review Data: \" + str(x_train.shape))\n",
        "print(\"Shape Training Class Data: \" + str(y_train.shape))\n",
        "print(\"Shape Test Review Data: \" + str(x_test.shape))\n",
        "print(\"Shape Test Class Data: \" + str(y_test.shape))\n",
        "\n",
        "# Note padding is added to start of review, not the end\n",
        "print(\"\")\n",
        "print(\"Human Readable Review Text (post padding): \" + decode_review(x_train[60]))"
      ]
    },
    {
      "cell_type": "markdown",
      "metadata": {
        "id": "BfOdV_VCCFee"
      },
      "source": [
        "## Create and build LSTM Recurrent Neural Network"
      ]
    },
    {
      "cell_type": "code",
      "execution_count": 85,
      "metadata": {
        "colab": {
          "base_uri": "https://localhost:8080/"
        },
        "id": "8nmO8M4aCKwT",
        "outputId": "ff817509-c0f7-43a7-d612-9a6f0fa001cc"
      },
      "outputs": [
        {
          "output_type": "stream",
          "name": "stdout",
          "text": [
            "Model: \"sequential_67\"\n",
            "_________________________________________________________________\n",
            " Layer (type)                Output Shape              Param #   \n",
            "=================================================================\n",
            " embedding_67 (Embedding)    (None, 500, 32)           320000    \n",
            "                                                                 \n",
            " dropout_100 (Dropout)       (None, 500, 32)           0         \n",
            "                                                                 \n",
            " simple_rnn_8 (SimpleRNN)    (None, 32)                2080      \n",
            "                                                                 \n",
            " dense_47 (Dense)            (None, 1)                 33        \n",
            "                                                                 \n",
            " dropout_101 (Dropout)       (None, 1)                 0         \n",
            "                                                                 \n",
            "=================================================================\n",
            "Total params: 322,113\n",
            "Trainable params: 322,113\n",
            "Non-trainable params: 0\n",
            "_________________________________________________________________\n",
            "None\n",
            "Model: \"sequential_68\"\n",
            "_________________________________________________________________\n",
            " Layer (type)                Output Shape              Param #   \n",
            "=================================================================\n",
            " embedding_68 (Embedding)    (None, 500, 32)           320000    \n",
            "                                                                 \n",
            " dropout_102 (Dropout)       (None, 500, 32)           0         \n",
            "                                                                 \n",
            " lstm_24 (LSTM)              (None, 32)                8320      \n",
            "                                                                 \n",
            " dense_48 (Dense)            (None, 1)                 33        \n",
            "                                                                 \n",
            " dropout_103 (Dropout)       (None, 1)                 0         \n",
            "                                                                 \n",
            "=================================================================\n",
            "Total params: 328,353\n",
            "Trainable params: 328,353\n",
            "Non-trainable params: 0\n",
            "_________________________________________________________________\n",
            "None\n",
            "Model: \"sequential_69\"\n",
            "_________________________________________________________________\n",
            " Layer (type)                Output Shape              Param #   \n",
            "=================================================================\n",
            " embedding_69 (Embedding)    (None, 500, 32)           320000    \n",
            "                                                                 \n",
            " dropout_104 (Dropout)       (None, 500, 32)           0         \n",
            "                                                                 \n",
            " gru_19 (GRU)                (None, 32)                6336      \n",
            "                                                                 \n",
            " dense_49 (Dense)            (None, 1)                 33        \n",
            "                                                                 \n",
            " dropout_105 (Dropout)       (None, 1)                 0         \n",
            "                                                                 \n",
            "=================================================================\n",
            "Total params: 326,369\n",
            "Trainable params: 326,369\n",
            "Non-trainable params: 0\n",
            "_________________________________________________________________\n",
            "None\n",
            "Model: \"sequential_70\"\n",
            "_________________________________________________________________\n",
            " Layer (type)                Output Shape              Param #   \n",
            "=================================================================\n",
            " embedding_70 (Embedding)    (None, 500, 32)           320000    \n",
            "                                                                 \n",
            " simple_rnn_9 (SimpleRNN)    (None, 32)                2080      \n",
            "                                                                 \n",
            " dense_50 (Dense)            (None, 1)                 33        \n",
            "                                                                 \n",
            "=================================================================\n",
            "Total params: 322,113\n",
            "Trainable params: 322,113\n",
            "Non-trainable params: 0\n",
            "_________________________________________________________________\n",
            "None\n",
            "Model: \"sequential_71\"\n",
            "_________________________________________________________________\n",
            " Layer (type)                Output Shape              Param #   \n",
            "=================================================================\n",
            " embedding_71 (Embedding)    (None, 500, 32)           320000    \n",
            "                                                                 \n",
            " lstm_25 (LSTM)              (None, 32)                8320      \n",
            "                                                                 \n",
            " dense_51 (Dense)            (None, 1)                 33        \n",
            "                                                                 \n",
            "=================================================================\n",
            "Total params: 328,353\n",
            "Trainable params: 328,353\n",
            "Non-trainable params: 0\n",
            "_________________________________________________________________\n",
            "None\n",
            "Model: \"sequential_72\"\n",
            "_________________________________________________________________\n",
            " Layer (type)                Output Shape              Param #   \n",
            "=================================================================\n",
            " embedding_72 (Embedding)    (None, 500, 32)           320000    \n",
            "                                                                 \n",
            " gru_20 (GRU)                (None, 32)                6336      \n",
            "                                                                 \n",
            " dense_52 (Dense)            (None, 1)                 33        \n",
            "                                                                 \n",
            "=================================================================\n",
            "Total params: 326,369\n",
            "Trainable params: 326,369\n",
            "Non-trainable params: 0\n",
            "_________________________________________________________________\n",
            "None\n",
            "Model: \"sequential_73\"\n",
            "_________________________________________________________________\n",
            " Layer (type)                Output Shape              Param #   \n",
            "=================================================================\n",
            " embedding_73 (Embedding)    (None, 500, 32)           320000    \n",
            "                                                                 \n",
            " simple_rnn_10 (SimpleRNN)   (None, 32)                2080      \n",
            "                                                                 \n",
            " dense_53 (Dense)            (None, 1)                 33        \n",
            "                                                                 \n",
            "=================================================================\n",
            "Total params: 322,113\n",
            "Trainable params: 322,113\n",
            "Non-trainable params: 0\n",
            "_________________________________________________________________\n",
            "None\n",
            "Model: \"sequential_74\"\n",
            "_________________________________________________________________\n",
            " Layer (type)                Output Shape              Param #   \n",
            "=================================================================\n",
            " embedding_74 (Embedding)    (None, 500, 32)           320000    \n",
            "                                                                 \n",
            " lstm_26 (LSTM)              (None, 32)                8320      \n",
            "                                                                 \n",
            " dense_54 (Dense)            (None, 1)                 33        \n",
            "                                                                 \n",
            "=================================================================\n",
            "Total params: 328,353\n",
            "Trainable params: 328,353\n",
            "Non-trainable params: 0\n",
            "_________________________________________________________________\n",
            "None\n",
            "Model: \"sequential_75\"\n",
            "_________________________________________________________________\n",
            " Layer (type)                Output Shape              Param #   \n",
            "=================================================================\n",
            " embedding_75 (Embedding)    (None, 500, 32)           320000    \n",
            "                                                                 \n",
            " gru_21 (GRU)                (None, 32)                6336      \n",
            "                                                                 \n",
            " dense_55 (Dense)            (None, 1)                 33        \n",
            "                                                                 \n",
            "=================================================================\n",
            "Total params: 326,369\n",
            "Trainable params: 326,369\n",
            "Non-trainable params: 0\n",
            "_________________________________________________________________\n",
            "None\n"
          ]
        }
      ],
      "source": [
        "\n",
        "def make_model_withdropout(RNN_layer):\n",
        "    model=tf.keras.models.Sequential()\n",
        "    model.add(tf.keras.layers.Embedding(input_dim=vocab_size,output_dim=32,input_length=review_length))\n",
        "    model.add(tf.keras.layers.Dropout(rate=0.25))\n",
        "    model.add(RNN_layer(units=32))\n",
        "    \n",
        "    model.add(tf.keras.layers.Dense(units=1,activation=\"sigmoid\"))\n",
        "    model.add(\n",
        "    tf.keras.layers.Dropout(\n",
        "        rate=0.25 # Randomly disable 25% of neurons\n",
        "    )\n",
        ")\n",
        "    return model\n",
        "\n",
        "RNN_layer=[tf.keras.layers.SimpleRNN,tf.keras.layers.LSTM,tf.keras.layers.GRU]\n",
        "\n",
        "for i in range(0,(len(RNN_layer))):\n",
        "    \n",
        "    models_1=make_model_withdropout(RNN_layer[i])\n",
        "    models_1.compile(\n",
        "    loss=tf.keras.losses.binary_crossentropy, # loss function\n",
        "    optimizer=tf.keras.optimizers.Adam(), # optimiser function\n",
        "    metrics=['accuracy']) # reporting metric\n",
        "    print(models_1.summary())\n",
        "  \n",
        "\n",
        "def make_model_withoutdropout(RNN_layer):\n",
        "    model=tf.keras.models.Sequential()\n",
        "    model.add(tf.keras.layers.Embedding(input_dim=vocab_size,output_dim=32,input_length=review_length))\n",
        "    \n",
        "    model.add(RNN_layer(units=32))\n",
        "    \n",
        "    model.add(tf.keras.layers.Dense(units=1,activation=\"sigmoid\"))\n",
        "    \n",
        "\n",
        "    return model\n",
        "\n",
        "RNN_layer=[tf.keras.layers.SimpleRNN,tf.keras.layers.LSTM,tf.keras.layers.GRU]\n",
        "\n",
        "for i in range(0,(len(RNN_layer))):\n",
        "    \n",
        "    models=make_model_withoutdropout(RNN_layer[i])\n",
        "    models.compile(\n",
        "    loss=tf.keras.losses.binary_crossentropy, # loss function\n",
        "    optimizer=tf.keras.optimizers.Adam(), # optimiser function\n",
        "    metrics=['accuracy']) # reporting metric\n",
        "    print(models.summary())\n",
        "\n",
        "\n",
        "def make_model_without_embedding(RNN_layer):\n",
        "    model=tf.keras.models.Sequential()\n",
        "    \n",
        "    model.add(RNN_layer(units=32))\n",
        "    model.add(\n",
        "    tf.keras.layers.Dropout(\n",
        "        rate=0.25 # Randomly disable 25% of neurons\n",
        "    )\n",
        ")\n",
        "    model.add(tf.keras.layers.Dense(units=1,activation=\"sigmoid\"))\n",
        "    \n",
        "\n",
        "    return model\n",
        "\n",
        "RNN_layer=[tf.keras.layers.SimpleRNN,tf.keras.layers.LSTM,tf.keras.layers.GRU]\n",
        "\n",
        "for i in range(0,(len(RNN_layer))):\n",
        "    \n",
        "    models_2=make_model_withoutdropout(RNN_layer[i])\n",
        "    models_2.compile(\n",
        "    loss=tf.keras.losses.binary_crossentropy, # loss function\n",
        "    optimizer=tf.keras.optimizers.Adam(), # optimiser function\n",
        "    metrics=['accuracy']) # reporting metric\n",
        "    print(models_2.summary())\n",
        "\n",
        "\n",
        "\n"
      ]
    },
    {
      "cell_type": "markdown",
      "metadata": {
        "id": "8Xx1Q2I8WNI9"
      },
      "source": [
        "## Visualise the Model"
      ]
    },
    {
      "cell_type": "code",
      "execution_count": 87,
      "metadata": {
        "id": "cz0Erj2WU3Vh",
        "colab": {
          "base_uri": "https://localhost:8080/",
          "height": 422
        },
        "outputId": "60c06083-a442-4e3b-fca7-d9b69ebbf7ce"
      },
      "outputs": [
        {
          "output_type": "execute_result",
          "data": {
            "image/png": "[encoded data removed]",
            "text/plain": [
              "<IPython.core.display.Image object>"
            ]
          },
          "metadata": {},
          "execution_count": 87
        }
      ],
      "source": [
        "tf.keras.utils.plot_model(models, to_file='model.png', show_shapes=True, show_layer_names=False)\n",
        "tf.keras.utils.plot_model(models_1, to_file='model.png', show_shapes=True, show_layer_names=False)\n",
        "tf.keras.utils.plot_model(models_2, to_file='model.png', show_shapes=True, show_layer_names=False)"
      ]
    },
    {
      "cell_type": "markdown",
      "metadata": {
        "id": "5KdfAoHsGwzo"
      },
      "source": [
        "## Train the LSTM"
      ]
    },
    {
      "cell_type": "code",
      "execution_count": 88,
      "metadata": {
        "id": "rEN1vV4nG1V3",
        "colab": {
          "base_uri": "https://localhost:8080/",
          "height": 946
        },
        "outputId": "8d8f8c82-22ad-4168-8e2f-b1026741bb0a"
      },
      "outputs": [
        {
          "output_type": "stream",
          "name": "stdout",
          "text": [
            "Epoch 1/3\n",
            "79/79 [==============================] - 9s 93ms/step - loss: 0.6394 - accuracy: 0.6295 - val_loss: 0.4397 - val_accuracy: 0.7954\n",
            "Epoch 2/3\n",
            "79/79 [==============================] - 6s 82ms/step - loss: 0.3274 - accuracy: 0.8637 - val_loss: 0.3295 - val_accuracy: 0.8594\n",
            "Epoch 3/3\n",
            "79/79 [==============================] - 6s 78ms/step - loss: 0.2273 - accuracy: 0.9154 - val_loss: 0.3201 - val_accuracy: 0.8690\n",
            "--------------------------------------------------\n",
            "Epoch 1/3\n",
            "79/79 [==============================] - 10s 87ms/step - loss: 2.4203 - accuracy: 0.5669 - val_loss: 0.6518 - val_accuracy: 0.5860\n",
            "Epoch 2/3\n",
            "79/79 [==============================] - 6s 78ms/step - loss: 2.2461 - accuracy: 0.7007 - val_loss: 0.5051 - val_accuracy: 0.7550\n",
            "Epoch 3/3\n",
            "79/79 [==============================] - 6s 77ms/step - loss: 2.1996 - accuracy: 0.7644 - val_loss: 0.4434 - val_accuracy: 0.7976\n",
            "--------------------------------------------------\n",
            "Epoch 1/3\n",
            "79/79 [==============================] - 9s 83ms/step - loss: 0.6219 - accuracy: 0.6462 - val_loss: 0.4570 - val_accuracy: 0.8032\n",
            "Epoch 2/3\n",
            "79/79 [==============================] - 6s 76ms/step - loss: 0.3164 - accuracy: 0.8648 - val_loss: 0.3252 - val_accuracy: 0.8668\n",
            "Epoch 3/3\n",
            "79/79 [==============================] - 6s 76ms/step - loss: 0.2101 - accuracy: 0.9208 - val_loss: 0.3656 - val_accuracy: 0.8502\n",
            "--------------------------------------------------\n"
          ]
        },
        {
          "output_type": "display_data",
          "data": {
            "image/png": "[encoded data removed]",
            "text/plain": [
              "<Figure size 432x288 with 1 Axes>"
            ]
          },
          "metadata": {
            "needs_background": "light"
          }
        },
        {
          "output_type": "display_data",
          "data": {
            "image/png": "[encoded data removed]",
            "text/plain": [
              "<Figure size 432x288 with 1 Axes>"
            ]
          },
          "metadata": {
            "needs_background": "light"
          }
        }
      ],
      "source": [
        "# Train the LSTM on the training data\n",
        "hist=[models,models_1,models_2]\n",
        "for i in range(len(hist)):\n",
        "  history=hist[i].fit(\n",
        "\n",
        "    # Training data : features (review) and classes (positive or negative)\n",
        "    x_train, y_train,\n",
        "                    \n",
        "    # Number of samples to work through before updating the \n",
        "    # internal model parameters via back propagation. The \n",
        "    # higher the batch, the more memory you need.\n",
        "    batch_size=256, \n",
        "\n",
        "    # An epoch is an iteration over the entire training data.\n",
        "    epochs=3, \n",
        "    \n",
        "    # The model will set apart his fraction of the training \n",
        "    # data, will not train on it, and will evaluate the loss\n",
        "    # and any model metrics on this data at the end of \n",
        "    # each epoch.\n",
        "    validation_split=0.2,\n",
        "    \n",
        "    verbose=1\n",
        ") \n",
        "  print(\"--------------------------------------------------\")\n",
        "plt.plot(history.history['accuracy'])\n",
        "plt.plot(history.history['val_accuracy'])\n",
        "plt.title('model accuracy')\n",
        "plt.ylabel('accuracy')\n",
        "plt.xlabel('epoch')\n",
        "plt.legend(['train', 'test'], loc='upper left')\n",
        "plt.show()\n",
        "# summarize history for loss\n",
        "plt.plot(history.history['loss'])\n",
        "plt.plot(history.history['val_loss'])\n",
        "plt.title('model loss')\n",
        "plt.ylabel('loss')\n",
        "plt.xlabel('epoch')\n",
        "plt.legend(['train', 'test'], loc='upper left')\n",
        "plt.show()"
      ]
    },
    {
      "cell_type": "markdown",
      "metadata": {
        "id": "rpCS2-jFH1KY"
      },
      "source": [
        "## Evaluate model with test data and view results"
      ]
    },
    {
      "cell_type": "code",
      "execution_count": 89,
      "metadata": {
        "id": "nPnfxwbnITqV",
        "colab": {
          "base_uri": "https://localhost:8080/"
        },
        "outputId": "b08ec355-00c1-4c60-a40d-fd855db593fe"
      },
      "outputs": [
        {
          "output_type": "stream",
          "name": "stdout",
          "text": [
            "              precision    recall  f1-score   support\n",
            "\n",
            "    Negative       0.86      0.87      0.87     12500\n",
            "    Positive       0.87      0.86      0.86     12500\n",
            "\n",
            "    accuracy                           0.86     25000\n",
            "   macro avg       0.86      0.86      0.86     25000\n",
            "weighted avg       0.86      0.86      0.86     25000\n",
            "\n"
          ]
        }
      ],
      "source": [
        "# Get Model Predictions for test data\n",
        "from sklearn.metrics import classification_report\n",
        "predicted_classes = models.predict(x_test)\n",
        "\n",
        "#predicted_classes = model.predict_classes(x_test)\n",
        "#print(classification_report(y_test, predicted_classes, target_names=class_names))\n",
        "predicted_classes_orig = predicted_classes\n",
        "\n",
        "predicted_classes_01 = (predicted_classes >= 0.5).astype(np.int).reshape(predicted_classes_orig.shape)\n",
        "\n",
        "print(classification_report(y_test, predicted_classes_01, target_names=class_names))\n",
        "\n",
        "predicted_classes = predicted_classes_01"
      ]
    },
    {
      "cell_type": "markdown",
      "metadata": {
        "id": "CkfHCIVHrJni"
      },
      "source": [
        "## View some incorrect predictions\n",
        "\n",
        "Lets have a look at some of the incorrectly classified reviews. For readability we remove the padding.\n",
        "\n"
      ]
    },
    {
      "cell_type": "code",
      "execution_count": 90,
      "metadata": {
        "id": "bwKLBwBbp7zg",
        "colab": {
          "base_uri": "https://localhost:8080/"
        },
        "outputId": "5075297d-3d42-4ec2-a2a4-50f431d8feea"
      },
      "outputs": [
        {
          "output_type": "stream",
          "name": "stdout",
          "text": [
            "test data prediction accuracy= 0.86464\n",
            "Incorrectly classified Test Review [1]\n",
            "Test Review #5: Predicted [Negative] Actual [Positive]\n",
            "Test Review Text: <START> i'm absolutely disgusted this movie isn't being sold all who love this movie should email disney and increase the demand for it they'd eventually have to sell it then i'd buy copies for everybody i know everything and everybody in this movie did a good job and i haven't figured out why disney hasn't put this movie on dvd or on vhs in rental stores at least i haven't seen any copies this is a wicked good movie and should be seen by all the kids in the new generation don't get to see it and i think they should it should at least be put back on the channel this movie doesn't deserve a cheap <UNKNOWN> it deserves the real thing i'm them now this movie will be on dvd\n",
            "\n",
            "Incorrectly classified Test Review [2]\n",
            "Test Review #8: Predicted [Positive] Actual [Negative]\n",
            "Test Review Text: <START> hollywood had a long love affair with bogus <UNKNOWN> nights tales but few of these products have stood the test of time the most memorable were the jon hall maria <UNKNOWN> films which have long since become camp this one is filled with dubbed songs <UNKNOWN> <UNKNOWN> and slapstick it's a truly crop of corn and pretty near <UNKNOWN> today it was nominated for its imaginative special effects which are almost <UNKNOWN> in this day and age <UNKNOWN> mainly of trick photography the only outstanding positive feature which survives is its beautiful color and clarity sad to say of the many films made in this genre few of them come up to alexander <UNKNOWN> original thief of <UNKNOWN> almost any other <UNKNOWN> nights film is superior to this one though it's a loser\n",
            "\n",
            "Incorrectly classified Test Review [3]\n",
            "Test Review #22: Predicted [Negative] Actual [Positive]\n",
            "Test Review Text: <START> how managed to avoid attention remains a mystery a potent mix of comedy and crime this one takes chances where tarantino plays it safe with the hollywood formula the risks don't always pay off one character in one sequence comes off <UNKNOWN> silly and falls flat in the lead role thomas jane gives a wonderful and complex performance and two brief appearances by mickey rourke hint at the high potential of this much under and <UNKNOWN> used actor here's a director one should keep one's eye on\n",
            "\n",
            "Incorrectly classified Test Review [4]\n",
            "Test Review #45: Predicted [Negative] Actual [Positive]\n",
            "Test Review Text: <START> the above profile was written by me when i used the nick of which is still my email address i still believe andy <UNKNOWN> character of <UNKNOWN> is the best twilight episodes ever and i watch this episode at least once a year as i consider to be a fortunate man as he has many friends who love him <UNKNOWN> br br in case many of you are too young to remember i'm <UNKNOWN> andy <UNKNOWN> <UNKNOWN> a children's entertainment show in the 50's i believe called <UNKNOWN> gang on it he had three <UNKNOWN> a cat named midnight who played the <UNKNOWN> a mouse named <UNKNOWN> who played an a hand <UNKNOWN> and a <UNKNOWN> <UNKNOWN> named who's could appear and disappear at will embarrassing many of <UNKNOWN> funny guest stars like billy gilbert\n",
            "\n",
            "Incorrectly classified Test Review [5]\n",
            "Test Review #66: Predicted [Positive] Actual [Negative]\n",
            "Test Review Text: forgive me if i don't phrase this correctly i was extremely disappointed that there were no optimistic overtones at all yes we all know that life is full of hard stuff and yes we know that things such as incest do occur but i really find it hard to applaud a movie that has not one piece of joy in it i believe that a director has a responsibility to put it in there somewhere otherwise the movie is all about them and their feelings they have created it for themselves not for an audience br br which i think is the basis of why this movie isn't so great the special features mention that the director wrote the screenplay in a <UNKNOWN> hour sitting the day after he himself tried to end his own life well it may have been <UNKNOWN> for him to do this however the movie <UNKNOWN> of self <UNKNOWN> when you know the story behind why it was written i feel horrid i'm going to write a movie about feeling horrid note i have read the interview with andrew urban and understand why needed to write something to help him through his own issues but i believe there is a line in film that cannot be crossed the line of making a movie purely for your own emotional needs and i feel that this is what has unintentionally happened here br br by his own admission the director had no technical experience at all and sadly this makes the movie come off looking like nothing more than a year twelve media project br br as for any <UNKNOWN> that this movie should be studied at school or that all teenagers should watch it not sure there either because there is a very dangerous line at the end i too have been in a place where i have thought that someone who no longer has to <UNKNOWN> <UNKNOWN> is <UNKNOWN> but as an adult i do worry that this line could be influential on a young viewer that was in a vulnerable frame of mind might be in there to promote discussion but again it reflects no possibility of redemption or joy in this story as a whole in fact it almost <UNKNOWN> that there is more sadness to come br br i haven't seen elephant but i just might go find it given all the comparisons here br br nothing personal here guys i do hope you can make another movie someday and we all have to start out somewhere so forgive me if i've been too harsh i am glad that you are proud of what you created which in the end is what life is all about it's not a movie i would recommend though br br oh i did like the way the time frames often <UNKNOWN> thought that was an interesting way to film br br but the whole its the quiet ones you have to watch we already know that\n",
            "\n",
            "Incorrectly classified Test Review [6]\n",
            "Test Review #75: Predicted [Positive] Actual [Negative]\n",
            "Test Review Text: <START> the adventures of <UNKNOWN> has to be one of the <UNKNOWN> excuses for a movie i've yet run across you would have to look far and wide to find anything that approaches the level of <UNKNOWN> on display in this movie acting  bad editing  bad direction  bad special effects  bad and laughable plot  bad lighting  bad cinematography  bad costume design  bad and silly everything else  bad watching the adventures of <UNKNOWN> is about as enjoyable as a root <UNKNOWN> even for a fan of bad movies it's a real <UNKNOWN> test this is one for either <UNKNOWN> or lou <UNKNOWN> <UNKNOWN> if any exist br br eight things i learned from watching the adventures of <UNKNOWN> br br 1 if you don't have the budget for real special effects <UNKNOWN> a scene from the previous movie it will look great trust me br br 2 when on a quest to recover take time for frequent stops to oil up you body it worked for <UNKNOWN> and his two amazon companions br br 3 any sword fight use of magic and just about all other day to day activities in ancient <UNKNOWN> created a sound very similar to a game of man or <UNKNOWN> br br 4 some of the ancient greek gods dressed like extras from star wars br br 5 if you need to pad your crappy movie's runtime <UNKNOWN> the title sequence by adding star trek style credits and throw in some overly <UNKNOWN> music it also helps if you've got a previous movie to pull scenes from br br 6 fight scenes move along much <UNKNOWN> if the bad guys attack <UNKNOWN> one at a time br br 7 william <UNKNOWN> did anything for money br br 8 i didn't think it was possible but the adventures of <UNKNOWN> makes the first film <UNKNOWN> 1983 look like an academy award winner\n",
            "\n",
            "Incorrectly classified Test Review [7]\n",
            "Test Review #80: Predicted [Negative] Actual [Positive]\n",
            "Test Review Text: <START> with the obvious exception of fools horses this was in my opinion david <UNKNOWN> finest series br br coming straight after his tv debut on <UNKNOWN> not <UNKNOWN> your set ' these 13 episodes revealed a <UNKNOWN> of comic timing not seen since the old silent movie days by comparison <UNKNOWN> open all hours and that awful series <UNKNOWN> man' did not come close br br i believe jason banned the series being repeated because it showed him at his <UNKNOWN> shame on him a new generation deserves to enjoy this the series actually <UNKNOWN> in the ratings but that is most likely because it was shown against 'the <UNKNOWN> which aired on bbc at the same time before <UNKNOWN> were <UNKNOWN> br br btw i have only just noticed that his long suffering assistant spencer was played by mark <UNKNOWN> alan <UNKNOWN> off <UNKNOWN> street i am amazed he didn't try to murder edgar <UNKNOWN>\n",
            "\n",
            "Incorrectly classified Test Review [8]\n",
            "Test Review #91: Predicted [Negative] Actual [Positive]\n",
            "Test Review Text: <START> i think this is a great classic monster film for the family the mole what a machine the tall creature with the <UNKNOWN> the flying green <UNKNOWN> or whatever they are and the ape men things the speak <UNKNOWN> with them the battle of the men in rubber suits fighting for a doll for breakfast <UNKNOWN> <UNKNOWN> class what else can i say how would they make a 2002 remake of this one\n",
            "\n",
            "Incorrectly classified Test Review [9]\n",
            "Test Review #100: Predicted [Negative] Actual [Positive]\n",
            "Test Review Text: <START> a quick glance at the premise of this film would seem to indicate just another dumb <UNKNOWN> <UNKNOWN> <UNKNOWN> slash fest the type where sex equals death and the actors are all annoying stereotypes you actually want to die however delivers considerably more br br rather than focus on bare flesh and gore though there is a little of each no sex however the flick focuses on delivering impending dread <UNKNOWN> tension amidst a lovely <UNKNOWN> backdrop these feelings are further <UNKNOWN> by a cast of realistically likable characters and <UNKNOWN> that are more amoral than cardboard <UNKNOWN> of evil oh yeah george kennedy is here too and when is that not a good thing br br if you liked wrong turn then watch this to see where much of its' <UNKNOWN> came from\n",
            "\n",
            "Incorrectly classified Test Review [10]\n",
            "Test Review #101: Predicted [Negative] Actual [Positive]\n",
            "Test Review Text: <START> <UNKNOWN> is the first of its kind in turkish cinema and it's way better than i expected those people who say it's neither scary nor funny have a point it's not all that great indeed but it must be kept in mind that everyone involved with the movie is rather amateur so it's basically a maiden voyage and comparing this one to other films such as the 1st class garbage propaganda this movie is pretty damn good br br one thing that must be said it deals with the <UNKNOWN> <UNKNOWN> life in turkey very realistically that's exactly how it goes the scenes that are meant to scare are somewhat cheap and <UNKNOWN> most of them even if not all but that religion lesson scene made me laugh in tears and performs the best acting of this flick as a religion teacher br br it's not a waste of your time go and watch it you'll find it rather amusing especially if you know turkey enough to relate to turkish school lives\n",
            "\n",
            "Incorrectly classified Test Review [11]\n",
            "Test Review #126: Predicted [Negative] Actual [Positive]\n",
            "Test Review Text: <START> this was answer to fatal attraction and this is a classic film in its own right <UNKNOWN> <UNKNOWN> was good and so was sunny <UNKNOWN> but it was shah rukh khan who shot to fame as the stalker since then he has become a favourite of the <UNKNOWN> <UNKNOWN> <UNKNOWN> le <UNKNOWN> <UNKNOWN> to <UNKNOWN> <UNKNOWN> <UNKNOWN> <UNKNOWN> and de india shah rukh at first appears to be a villain but then towards the end you start to sympathize with him the scripting was superb and the songs were my favourites are too mere and <UNKNOWN> br br after the dismal failure of the underrated <UNKNOWN> <UNKNOWN> fought back with <UNKNOWN> the dialogues were memorable the k k <UNKNOWN> dialogue is often repeated since <UNKNOWN> <UNKNOWN> <UNKNOWN> has slipped bit <UNKNOWN> to <UNKNOWN> <UNKNOWN> was bad but he redeemed himself slightly with <UNKNOWN> <UNKNOWN> which was far far better this was <UNKNOWN> <UNKNOWN> last masterpiece\n",
            "\n",
            "Incorrectly classified Test Review [12]\n",
            "Test Review #130: Predicted [Negative] Actual [Positive]\n",
            "Test Review Text: <START> i just saw this movie at the berlin film <UNKNOWN> children's program and it just killed me and pretty much everyone else in the audience and make no mistake about it this film belongs into the all time 250 let me tell you that i'm in no way associated with the creators of this film if that's what you come to believe reading this no but this actually is it <UNKNOWN> the kid's film label on it <UNKNOWN> girl is on almost every account a classic as in biblical the story concerns 12 year old <UNKNOWN> <UNKNOWN> julie who is <UNKNOWN> to learn of her <UNKNOWN> <UNKNOWN> illness special surgery in the us would cost 1 5 million and of course nobody could afford that so <UNKNOWN> and her friends <UNKNOWN> and sebastian do what every good kid would and <UNKNOWN> a bank sounds corny don't forget this is not america and is by no means the tear <UNKNOWN> robin williams <UNKNOWN> <UNKNOWN> du <UNKNOWN> nobody takes seriously anyway director <UNKNOWN> set out to make a big budget action comedy for kids and boy did he succeed let me put it this way this film rocks like no kid film and few others did before and there's a whole lot more to it than just the action after about 20 minutes of by the numbers exposition well granted it into a monster that br br effortlessly puts mission impossible to shame the numerous action sequences are masterfully staged and look real expensive take that mummy br br <UNKNOWN> almost every other movie suspense wise no easy they're only kids antics here br br easily <UNKNOWN> a dense story with enough laughs to make jim carrey look for career <UNKNOWN> br br <UNKNOWN> to both damon <UNKNOWN> and karate kid within the same seconds br br comes up with so much wicked humor that side of p c that i can hear the american ratings board wet their pants from over here br br manages to actually be tender and serious and sexy at the same time what am i saying they're kids they're kids <UNKNOWN> watch that last scene br br stars <UNKNOWN> anderson who since last years is everybody's favourite kid actor br br what a ride\n",
            "\n",
            "Incorrectly classified Test Review [13]\n",
            "Test Review #146: Predicted [Negative] Actual [Positive]\n",
            "Test Review Text: <START> i was shocked to learn that jimmy <UNKNOWN> has left this show does anyone know why i regard james as one of the all time <UNKNOWN> and wasn't surprised he ended up on tv which can be better than the crap you see on the big screen the stories are slick and the camera faster than a <UNKNOWN> bullet <UNKNOWN> forget the rest of the cast james vanessa <UNKNOWN> <UNKNOWN> molly josh mitch also can anyone tell me why on earth there's a crap theme tune on the dvd sets but <UNKNOWN> <UNKNOWN> of a little less conversation is used on the initial nbc <UNKNOWN> does it not make sense to use a tune that you would associate with the gambling <UNKNOWN> of america for dvd releases\n",
            "\n",
            "Incorrectly classified Test Review [14]\n",
            "Test Review #147: Predicted [Positive] Actual [Negative]\n",
            "Test Review Text: <START> having enjoyed neil <UNKNOWN> writing especially his collaboration with <UNKNOWN> in the dream hunters in the past i figured <UNKNOWN> to be a sure thing and was very disappointed the beginning live action section of the movie was intriguing enough the relationships between the characters was believable and easy to empathize with and i loved the sets the <UNKNOWN> and <UNKNOWN> artwork the subsequent computer generated scenes however were excruciating the dialogue was awkward and pretentious the interaction between the live actors and the cgi horrifying events occurred for the <UNKNOWN> reasons and most events seemed superfluous to whatever plot may have existed i only watched the first twenty or thirty minutes of the movie so i'm not exactly an authority but i strongly recommend that you don't watch any of it at all and stick with <UNKNOWN> strong written work\n",
            "\n",
            "Incorrectly classified Test Review [15]\n",
            "Test Review #152: Predicted [Positive] Actual [Negative]\n",
            "Test Review Text: <START> i can pretend no knowledge of cinematography or mr <UNKNOWN> but i know <UNKNOWN> and i love her people in july my 14 year old son and i traveled to turkey in search of some remains of the neighborhood where his great grandfather lived until the great <UNKNOWN> of <UNKNOWN> in <UNKNOWN> reading the summary of the film <UNKNOWN> from <UNKNOWN> i thought that perhaps i might learn something more about the forced <UNKNOWN> of modern <UNKNOWN> if i did not have a home in <UNKNOWN> had i not been to <UNKNOWN> 28 times in as many years were i not familiar with dozens of islands and cities in <UNKNOWN> and if i had never enjoyed the friendship of these <UNKNOWN> life <UNKNOWN> people i might have believed that this had something to do with modern <UNKNOWN> as a professor at a new jersey state college let me assure you that i am familiar with the history of the period covered in the film indeed my wife's uncle was murdered by the <UNKNOWN> during the communist grab for power my mother in law lived through the italian invasion and german <UNKNOWN> barely these characters on the screen speak greek they listen to greek music but who are they no they are not even vaguely greek of course they are not people at all but simply <UNKNOWN> they are that which the artist <UNKNOWN> when life does not entirely fit or is <UNKNOWN> to his perception of how it was or should have been all represent some aspect of post wwi <UNKNOWN> that greater outside forces <UNKNOWN> to a fate they didn't deserve as we <UNKNOWN> in the late 70's in america the revolution didn't happen for an <UNKNOWN> artist this is no joke it's in fact grounds to put us through two and a half hours of torment and it's all because the various powers <UNKNOWN> of guards in different colored uniforms didn't allow the generation after the <UNKNOWN> of <UNKNOWN> to follow the call of peace and freedom the music of <UNKNOWN> and his fellow musicians i e the movement the cause this dark surreal <UNKNOWN> <UNKNOWN> the true and heroic efforts of the greek people to sustain their lust for life through the <UNKNOWN> of the 20th century to achieve more than any of their <UNKNOWN> neighbors to have become so politically evolved and <UNKNOWN> integrated\n",
            "\n",
            "Incorrectly classified Test Review [16]\n",
            "Test Review #154: Predicted [Positive] Actual [Negative]\n",
            "Test Review Text: <START> i saw this movie many years ago and just for kicks decided to rent it and watch it again the plot is a <UNKNOWN> copy from fright night i did like the hairy vampire and the bug eating driver otherwise it was not good at all\n",
            "\n",
            "Incorrectly classified Test Review [17]\n",
            "Test Review #159: Predicted [Negative] Actual [Positive]\n",
            "Test Review Text: predictable and based largely around glaring cliché borrowed <UNKNOWN> from the likes of <UNKNOWN> killer and john <UNKNOWN> classic the killer br br almost every aspect of the film is <UNKNOWN> with angst with the three lead characters suffering as if the weight of the world was on their shoulders and <UNKNOWN> <UNKNOWN> to do anything to pursue their romantic <UNKNOWN> park <UNKNOWN> in particular as the kind of overly emotional socially retarded assassin so beloved of modern cinema is <UNKNOWN> ludicrous from his blatant incompetence on the job to his hilarious attempts to discuss <UNKNOWN> painting with young or his <UNKNOWN> for flower growing this <UNKNOWN> <UNKNOWN> does make the film's central romance somewhat hard to swallow and <UNKNOWN> attempts to evoke the feeling that it is fate which brings the characters together comes across more as shoddy coincidence br br fans of <UNKNOWN> <UNKNOWN> <UNKNOWN> should note that her character is far closer to her role in the <UNKNOWN> supernatural drama the <UNKNOWN> than my sassy girl or and while she tries her best to pull a few wacky faces here and there her performance is certainly more subdued br br the film benefits from glossy production values and <UNKNOWN> makes good use of the <UNKNOWN> scenery playing on the contrast between the grey almost gothic beauty of the city and the innocent blue <UNKNOWN> and <UNKNOWN> fields of the countryside unfortunately he tends to <UNKNOWN> slow motion for some of the emotional scenes which when coupled with some of the picture <UNKNOWN> visuals gives the film the feel at times of a <UNKNOWN> <UNKNOWN> there are a few scenes of surprisingly violent action though these are few and far between and whilst well staged seem to have been thrown in as an <UNKNOWN> and do little more than briefly raising the pulse br br despite its flaws daisy makes for engaging viewing and the story grips almost in spite of itself mainly out of a morbid fascination to see not which of the men young will end up with but to see who will lie dying in her arms the self indulgent melodrama works well enough to <UNKNOWN> all the right boxes for the genre and the film functions perfectly well as an <UNKNOWN> glossy <UNKNOWN> romance br br it is worth noting that the dvd features the director's cut of the film which for once <UNKNOWN> that it is <UNKNOWN> different from the theatrical version which not only adds 25 minutes but some of the scenes making the narrative less linear although this new version is perhaps too long it is surely superior as without these changes the film would surely have been even more conventional and would have suffered from even <UNKNOWN> character development br br <UNKNOWN> <UNKNOWN> <UNKNOWN> director young screenplay cast woo sung <UNKNOWN>  park <UNKNOWN> sung lee  <UNKNOWN> woo david <UNKNOWN>  <UNKNOWN> ho <UNKNOWN> <UNKNOWN>  detective <UNKNOWN> <UNKNOWN> <UNKNOWN> <UNKNOWN>  young <UNKNOWN> <UNKNOWN>  <UNKNOWN> <UNKNOWN> ha\n",
            "\n",
            "Incorrectly classified Test Review [18]\n",
            "Test Review #167: Predicted [Negative] Actual [Positive]\n",
            "Test Review Text: <START> for all viewers out there who have <UNKNOWN> john waters for creating a film like pink <UNKNOWN> just stop it's getting you nowhere has anyone ever cared to stop and think about the ambition and dedication mr waters possesses to gather your best friends up and to create a movie just to gross out thousands of viewers all over shows this man has a great deal of ambition inside himself just read his biography shock value it <UNKNOWN> the <UNKNOWN> he went through to get this film finished maybe it wasn't just the fact that john made this film to gross people out it was to prove that there can be something such as good bad taste\n",
            "\n",
            "Incorrectly classified Test Review [19]\n",
            "Test Review #174: Predicted [Negative] Actual [Positive]\n",
            "Test Review Text: <START> i'm not a fan of scratching but i really <UNKNOWN> this movie it gave me a real insight into a world i never had a clue existed and what else is a documentary for funny clever hip just like previous film hype about the <UNKNOWN> music scene\n",
            "\n",
            "Incorrectly classified Test Review [20]\n",
            "Test Review #191: Predicted [Negative] Actual [Positive]\n",
            "Test Review Text: <START> i must be getting old because i was <UNKNOWN> to this movie from the first time i saw it i'm watching it again right now on hbo it's a very simple film about 2 people that fall in love after they found out that there <UNKNOWN> were having an affair plot is very thin but the actors acted very well in this movie in the mix of <UNKNOWN> scott thomas running for <UNKNOWN> and harrison ford being an internal affairs cop these two meet under unfortunate circumstances and fall in love i love the soundtrack perfect fit one thing i can't figure out this movie had a budget of <UNKNOWN> million dollars were was it spent the plane crash or harrison ford's <UNKNOWN>\n",
            "\n"
          ]
        }
      ],
      "source": [
        "#print(predicted_classes.shape)\n",
        "predicted_classes_reshaped = np.reshape(predicted_classes_01, 25000)\n",
        "incorrect_all = np.nonzero(predicted_classes_reshaped!=y_test)[0]\n",
        "\n",
        "print(\"test data prediction accuracy=\", 1 - incorrect_all.shape[0] / predicted_classes.shape[0])\n",
        "\n",
        "# We select the first 10 incorrectly classified reviews\n",
        "for j, incorrect in enumerate(incorrect_all[0:20]):\n",
        "    predicted = class_names[predicted_classes_reshaped[incorrect]]\n",
        "    actual = class_names[y_test[incorrect]]\n",
        "    human_readable_review = decode_review(x_test[incorrect])\n",
        "    \n",
        "    print(\"Incorrectly classified Test Review [\"+ str(j+1) +\"]\") \n",
        "    print(\"Test Review #\" + str(incorrect)  + \": Predicted [\"+ predicted + \"] Actual [\"+ actual + \"]\")\n",
        "    print(\"Test Review Text: \" + human_readable_review.replace(\"<PAD> \", \"\"))\n",
        "    print(\"\")"
      ]
    },
    {
      "cell_type": "markdown",
      "metadata": {
        "id": "OlAfxIoTrtYa"
      },
      "source": [
        "## Run your own text against the trained model\n",
        "\n",
        "This is a fun way to test out the limits of the trained model. To avoid getting errors - type in lower case only and do not use punctuation! \n",
        "\n",
        "You'll see the raw prediction from the model - basically a value between 0 and 1.\n",
        "\n"
      ]
    },
    {
      "cell_type": "code",
      "execution_count": 91,
      "metadata": {
        "id": "UEKEB0DpD_8P",
        "colab": {
          "base_uri": "https://localhost:8080/"
        },
        "outputId": "c2c2ee35-a712-446a-fe36-b02aaece7c8c"
      },
      "outputs": [
        {
          "output_type": "stream",
          "name": "stdout",
          "text": [
            "Review: this was an awful film that i will never see again\n",
            "Raw Prediction: 0.50146604\n",
            "Predicted Class: Positive\n"
          ]
        }
      ],
      "source": [
        "# Write your own review\n",
        "#review = \"this was a terrible film with too much sex and violence i walked out halfway through\"\n",
        "review = \"this was an awful film that i will never see again\"\n",
        "\n",
        "# Encode review (replace word with integers)\n",
        "tmp = []\n",
        "for word in review.split(\" \"):\n",
        "    tmp.append(word_index[word])\n",
        "\n",
        "# Ensure review is 500 words long (by padding or truncating)\n",
        "tmp_padded = sequence.pad_sequences([tmp], maxlen=review_length) \n",
        "\n",
        "# Run your processed review against the trained model\n",
        "rawprediction = model.predict(array([tmp_padded][0]))[0][0]\n",
        "prediction = int(round(rawprediction))\n",
        "\n",
        "# Test the model and print the result\n",
        "print(\"Review: \" + review)\n",
        "print(\"Raw Prediction: \" + str(rawprediction))\n",
        "print(\"Predicted Class: \" + class_names[prediction])"
      ]
    }
  ],
  "metadata": {
    "accelerator": "GPU",
    "colab": {
      "collapsed_sections": [],
      "machine_shape": "hm",
      "name": "LSTM_IMDB_Sentiment_Example (1).ipynb",
      "provenance": [],
      "include_colab_link": true
    },
    "kernelspec": {
      "display_name": "Python 3 (ipykernel)",
      "language": "python",
      "name": "python3"
    },
    "language_info": {
      "codemirror_mode": {
        "name": "ipython",
        "version": 3
      },
      "file_extension": ".py",
      "mimetype": "text/x-python",
      "name": "python",
      "nbconvert_exporter": "python",
      "pygments_lexer": "ipython3",
      "version": "3.8.12"
    }
  },
  "nbformat": 4,
  "nbformat_minor": 0
}